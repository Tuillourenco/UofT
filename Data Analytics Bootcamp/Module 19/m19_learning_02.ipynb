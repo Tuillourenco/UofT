{
 "cells": [
  {
   "cell_type": "markdown",
   "metadata": {},
   "source": [
    "### Build a Basic Neural Network"
   ]
  },
  {
   "cell_type": "code",
   "execution_count": 1,
   "metadata": {},
   "outputs": [],
   "source": [
    "# Import our dependencies\n",
    "import pandas as pd\n",
    "import matplotlib as plt\n",
    "from sklearn.datasets import make_blobs\n",
    "import sklearn as skl\n",
    "import tensorflow as tf"
   ]
  },
  {
   "cell_type": "code",
   "execution_count": 4,
   "metadata": {},
   "outputs": [
    {
     "data": {
      "text/plain": [
       "<AxesSubplot:xlabel='Feature 1', ylabel='Feature 2'>"
      ]
     },
     "execution_count": 4,
     "metadata": {},
     "output_type": "execute_result"
    },
    {
     "data": {
      "image/png": "[encoded data removed]",
      "text/plain": [
       "<Figure size 432x288 with 2 Axes>"
      ]
     },
     "metadata": {
      "needs_background": "light"
     },
     "output_type": "display_data"
    }
   ],
   "source": [
    "# Generate dummy dataset\n",
    "X, y = make_blobs(n_samples=1000, centers=2, n_features=2, random_state=78)\n",
    "\n",
    "# Creating a DataFrame with dummy data.\n",
    "df = pd.DataFrame(X, columns=[\"Feature 1\", \"Feature 2\"])\n",
    "df[\"Target\"] = y\n",
    "\n",
    "# Plotting the dummy data.\n",
    "df.plot.scatter(x=\"Feature 1\", y=\"Feature 2\", c=\"Target\", colormap=\"winter\")"
   ]
  },
  {
   "cell_type": "code",
   "execution_count": 5,
   "metadata": {},
   "outputs": [],
   "source": [
    "# Use sklearn to split dataset\n",
    "from sklearn.model_selection import train_test_split\n",
    "\n",
    "X_train, X_test, y_train, y_test = train_test_split(X, y, random_state=78)"
   ]
  },
  {
   "cell_type": "code",
   "execution_count": 6,
   "metadata": {},
   "outputs": [],
   "source": [
    "# Create scaler instance\n",
    "X_scaler = skl.preprocessing.StandardScaler()\n",
    "\n",
    "# Fit the scaler\n",
    "X_scaler.fit(X_train)\n",
    "\n",
    "# Scale the data\n",
    "X_train_scaled = X_scaler.transform(X_train)\n",
    "X_test_scaled = X_scaler.transform(X_test)"
   ]
  },
  {
   "cell_type": "code",
   "execution_count": 7,
   "metadata": {},
   "outputs": [],
   "source": [
    "# Create the Keras Sequential model.\n",
    "nn_model = tf.keras.models.Sequential()"
   ]
  },
  {
   "cell_type": "code",
   "execution_count": 8,
   "metadata": {},
   "outputs": [],
   "source": [
    "# Add our first Dense layer, including the input layer\n",
    "nn_model.add(tf.keras.layers.Dense(units=1, activation=\"relu\", input_dim=2))"
   ]
  },
  {
   "cell_type": "code",
   "execution_count": 9,
   "metadata": {},
   "outputs": [],
   "source": [
    "# Add the output layer that uses a probability activation function\n",
    "nn_model.add(tf.keras.layers.Dense(units=1, activation=\"sigmoid\"))"
   ]
  },
  {
   "cell_type": "code",
   "execution_count": 10,
   "metadata": {},
   "outputs": [
    {
     "name": "stdout",
     "output_type": "stream",
     "text": [
      "Model: \"sequential\"\n",
      "_________________________________________________________________\n",
      " Layer (type)                Output Shape              Param #   \n",
      "=================================================================\n",
      " dense (Dense)               (None, 1)                 3         \n",
      "                                                                 \n",
      " dense_1 (Dense)             (None, 1)                 2         \n",
      "                                                                 \n",
      "=================================================================\n",
      "Total params: 5\n",
      "Trainable params: 5\n",
      "Non-trainable params: 0\n",
      "_________________________________________________________________\n"
     ]
    }
   ],
   "source": [
    "# Check the structure of the Sequential model\n",
    "nn_model.summary()"
   ]
  },
  {
   "cell_type": "code",
   "execution_count": 11,
   "metadata": {},
   "outputs": [],
   "source": [
    "# Compile the Sequential model together and customize metrics\n",
    "nn_model.compile(loss=\"binary_crossentropy\", optimizer=\"adam\", metrics=[\"accuracy\"])"
   ]
  },
  {
   "cell_type": "markdown",
   "metadata": {},
   "source": [
    "### Train and Test a Basic Neural Network"
   ]
  },
  {
   "cell_type": "code",
   "execution_count": 12,
   "metadata": {},
   "outputs": [
    {
     "name": "stdout",
     "output_type": "stream",
     "text": [
      "Epoch 1/100\n",
      "24/24 [==============================] - 2s 692us/step - loss: 0.6949 - accuracy: 0.5067\n",
      "Epoch 2/100\n",
      "24/24 [==============================] - 0s 675us/step - loss: 0.6940 - accuracy: 0.5067\n",
      "Epoch 3/100\n",
      "24/24 [==============================] - 0s 657us/step - loss: 0.6934 - accuracy: 0.5067\n",
      "Epoch 4/100\n",
      "24/24 [==============================] - 0s 657us/step - loss: 0.6930 - accuracy: 0.5067\n",
      "Epoch 5/100\n",
      "24/24 [==============================] - 0s 675us/step - loss: 0.6927 - accuracy: 0.5067\n",
      "Epoch 6/100\n",
      "24/24 [==============================] - 0s 652us/step - loss: 0.6921 - accuracy: 0.4920\n",
      "Epoch 7/100\n",
      "24/24 [==============================] - 0s 675us/step - loss: 0.6913 - accuracy: 0.5067\n",
      "Epoch 8/100\n",
      "24/24 [==============================] - 0s 609us/step - loss: 0.6900 - accuracy: 0.5067\n",
      "Epoch 9/100\n",
      "24/24 [==============================] - 0s 632us/step - loss: 0.6879 - accuracy: 0.5067\n",
      "Epoch 10/100\n",
      "24/24 [==============================] - 0s 696us/step - loss: 0.6845 - accuracy: 0.5067\n",
      "Epoch 11/100\n",
      "24/24 [==============================] - 0s 675us/step - loss: 0.6797 - accuracy: 0.5320\n",
      "Epoch 12/100\n",
      "24/24 [==============================] - 0s 652us/step - loss: 0.6732 - accuracy: 0.6987\n",
      "Epoch 13/100\n",
      "24/24 [==============================] - 0s 718us/step - loss: 0.6649 - accuracy: 0.7213\n",
      "Epoch 14/100\n",
      "24/24 [==============================] - 0s 732us/step - loss: 0.6549 - accuracy: 0.7480\n",
      "Epoch 15/100\n",
      "24/24 [==============================] - 0s 675us/step - loss: 0.6436 - accuracy: 0.7667\n",
      "Epoch 16/100\n",
      "24/24 [==============================] - 0s 695us/step - loss: 0.6306 - accuracy: 0.7840\n",
      "Epoch 17/100\n",
      "24/24 [==============================] - 0s 700us/step - loss: 0.6169 - accuracy: 0.8067\n",
      "Epoch 18/100\n",
      "24/24 [==============================] - 0s 652us/step - loss: 0.6029 - accuracy: 0.8187\n",
      "Epoch 19/100\n",
      "24/24 [==============================] - 0s 653us/step - loss: 0.5882 - accuracy: 0.8280\n",
      "Epoch 20/100\n",
      "24/24 [==============================] - 0s 635us/step - loss: 0.5735 - accuracy: 0.8360\n",
      "Epoch 21/100\n",
      "24/24 [==============================] - 0s 657us/step - loss: 0.5590 - accuracy: 0.8440\n",
      "Epoch 22/100\n",
      "24/24 [==============================] - 0s 631us/step - loss: 0.5447 - accuracy: 0.8573\n",
      "Epoch 23/100\n",
      "24/24 [==============================] - 0s 652us/step - loss: 0.5307 - accuracy: 0.8693\n",
      "Epoch 24/100\n",
      "24/24 [==============================] - 0s 675us/step - loss: 0.5170 - accuracy: 0.8720\n",
      "Epoch 25/100\n",
      "24/24 [==============================] - 0s 695us/step - loss: 0.5036 - accuracy: 0.8800\n",
      "Epoch 26/100\n",
      "24/24 [==============================] - 0s 689us/step - loss: 0.4908 - accuracy: 0.8813\n",
      "Epoch 27/100\n",
      "24/24 [==============================] - 0s 631us/step - loss: 0.4783 - accuracy: 0.8853\n",
      "Epoch 28/100\n",
      "24/24 [==============================] - 0s 697us/step - loss: 0.4662 - accuracy: 0.8893\n",
      "Epoch 29/100\n",
      "24/24 [==============================] - 0s 631us/step - loss: 0.4545 - accuracy: 0.8960\n",
      "Epoch 30/100\n",
      "24/24 [==============================] - 0s 675us/step - loss: 0.4432 - accuracy: 0.8987\n",
      "Epoch 31/100\n",
      "24/24 [==============================] - 0s 631us/step - loss: 0.4323 - accuracy: 0.9027\n",
      "Epoch 32/100\n",
      "24/24 [==============================] - 0s 674us/step - loss: 0.4218 - accuracy: 0.9120\n",
      "Epoch 33/100\n",
      "24/24 [==============================] - 0s 652us/step - loss: 0.4116 - accuracy: 0.9120\n",
      "Epoch 34/100\n",
      "24/24 [==============================] - 0s 631us/step - loss: 0.4019 - accuracy: 0.9147\n",
      "Epoch 35/100\n",
      "24/24 [==============================] - 0s 679us/step - loss: 0.3923 - accuracy: 0.9213\n",
      "Epoch 36/100\n",
      "24/24 [==============================] - 0s 675us/step - loss: 0.3832 - accuracy: 0.9227\n",
      "Epoch 37/100\n",
      "24/24 [==============================] - 0s 677us/step - loss: 0.3742 - accuracy: 0.9240\n",
      "Epoch 38/100\n",
      "24/24 [==============================] - 0s 654us/step - loss: 0.3655 - accuracy: 0.9240\n",
      "Epoch 39/100\n",
      "24/24 [==============================] - 0s 674us/step - loss: 0.3571 - accuracy: 0.9267\n",
      "Epoch 40/100\n",
      "24/24 [==============================] - 0s 696us/step - loss: 0.3489 - accuracy: 0.9333\n",
      "Epoch 41/100\n",
      "24/24 [==============================] - 0s 674us/step - loss: 0.3409 - accuracy: 0.9333\n",
      "Epoch 42/100\n",
      "24/24 [==============================] - 0s 652us/step - loss: 0.3332 - accuracy: 0.9360\n",
      "Epoch 43/100\n",
      "24/24 [==============================] - 0s 679us/step - loss: 0.3258 - accuracy: 0.9373\n",
      "Epoch 44/100\n",
      "24/24 [==============================] - 0s 675us/step - loss: 0.3185 - accuracy: 0.9387\n",
      "Epoch 45/100\n",
      "24/24 [==============================] - 0s 653us/step - loss: 0.3114 - accuracy: 0.9453\n",
      "Epoch 46/100\n",
      "24/24 [==============================] - 0s 675us/step - loss: 0.3044 - accuracy: 0.9507\n",
      "Epoch 47/100\n",
      "24/24 [==============================] - 0s 609us/step - loss: 0.2976 - accuracy: 0.9520\n",
      "Epoch 48/100\n",
      "24/24 [==============================] - 0s 632us/step - loss: 0.2911 - accuracy: 0.9533\n",
      "Epoch 49/100\n",
      "24/24 [==============================] - 0s 672us/step - loss: 0.2847 - accuracy: 0.9547\n",
      "Epoch 50/100\n",
      "24/24 [==============================] - 0s 696us/step - loss: 0.2784 - accuracy: 0.9560\n",
      "Epoch 51/100\n",
      "24/24 [==============================] - 0s 631us/step - loss: 0.2723 - accuracy: 0.9573\n",
      "Epoch 52/100\n",
      "24/24 [==============================] - 0s 696us/step - loss: 0.2663 - accuracy: 0.9587\n",
      "Epoch 53/100\n",
      "24/24 [==============================] - 0s 652us/step - loss: 0.2605 - accuracy: 0.9600\n",
      "Epoch 54/100\n",
      "24/24 [==============================] - 0s 588us/step - loss: 0.2548 - accuracy: 0.9600\n",
      "Epoch 55/100\n",
      "24/24 [==============================] - 0s 696us/step - loss: 0.2492 - accuracy: 0.9600\n",
      "Epoch 56/100\n",
      "24/24 [==============================] - 0s 624us/step - loss: 0.2437 - accuracy: 0.9640\n",
      "Epoch 57/100\n",
      "24/24 [==============================] - 0s 656us/step - loss: 0.2383 - accuracy: 0.9653\n",
      "Epoch 58/100\n",
      "24/24 [==============================] - 0s 675us/step - loss: 0.2331 - accuracy: 0.9667\n",
      "Epoch 59/100\n",
      "24/24 [==============================] - 0s 681us/step - loss: 0.2280 - accuracy: 0.9667\n",
      "Epoch 60/100\n",
      "24/24 [==============================] - 0s 654us/step - loss: 0.2230 - accuracy: 0.9680\n",
      "Epoch 61/100\n",
      "24/24 [==============================] - 0s 652us/step - loss: 0.2181 - accuracy: 0.9680\n",
      "Epoch 62/100\n",
      "24/24 [==============================] - 0s 674us/step - loss: 0.2133 - accuracy: 0.9693\n",
      "Epoch 63/100\n",
      "24/24 [==============================] - 0s 609us/step - loss: 0.2087 - accuracy: 0.9707\n",
      "Epoch 64/100\n",
      "24/24 [==============================] - 0s 652us/step - loss: 0.2041 - accuracy: 0.9733\n",
      "Epoch 65/100\n",
      "24/24 [==============================] - 0s 588us/step - loss: 0.1997 - accuracy: 0.9760\n",
      "Epoch 66/100\n",
      "24/24 [==============================] - 0s 631us/step - loss: 0.1954 - accuracy: 0.9800\n",
      "Epoch 67/100\n",
      "24/24 [==============================] - 0s 631us/step - loss: 0.1912 - accuracy: 0.9813\n",
      "Epoch 68/100\n",
      "24/24 [==============================] - 0s 652us/step - loss: 0.1871 - accuracy: 0.9827\n",
      "Epoch 69/100\n",
      "24/24 [==============================] - 0s 675us/step - loss: 0.1831 - accuracy: 0.9840\n",
      "Epoch 70/100\n",
      "24/24 [==============================] - 0s 675us/step - loss: 0.1792 - accuracy: 0.9853\n",
      "Epoch 71/100\n",
      "24/24 [==============================] - 0s 609us/step - loss: 0.1754 - accuracy: 0.9880\n",
      "Epoch 72/100\n",
      "24/24 [==============================] - 0s 740us/step - loss: 0.1716 - accuracy: 0.9880\n",
      "Epoch 73/100\n",
      "24/24 [==============================] - 0s 675us/step - loss: 0.1680 - accuracy: 0.9893\n",
      "Epoch 74/100\n",
      "24/24 [==============================] - 0s 661us/step - loss: 0.1645 - accuracy: 0.9907\n",
      "Epoch 75/100\n",
      "24/24 [==============================] - 0s 675us/step - loss: 0.1611 - accuracy: 0.9920\n",
      "Epoch 76/100\n",
      "24/24 [==============================] - 0s 696us/step - loss: 0.1577 - accuracy: 0.9920\n",
      "Epoch 77/100\n",
      "24/24 [==============================] - 0s 696us/step - loss: 0.1544 - accuracy: 0.9920\n",
      "Epoch 78/100\n",
      "24/24 [==============================] - 0s 653us/step - loss: 0.1512 - accuracy: 0.9920\n",
      "Epoch 79/100\n",
      "24/24 [==============================] - 0s 609us/step - loss: 0.1481 - accuracy: 0.9920\n",
      "Epoch 80/100\n",
      "24/24 [==============================] - 0s 631us/step - loss: 0.1451 - accuracy: 0.9933\n",
      "Epoch 81/100\n",
      "24/24 [==============================] - 0s 652us/step - loss: 0.1422 - accuracy: 0.9933\n",
      "Epoch 82/100\n",
      "24/24 [==============================] - 0s 719us/step - loss: 0.1393 - accuracy: 0.9933\n",
      "Epoch 83/100\n",
      "24/24 [==============================] - 0s 718us/step - loss: 0.1366 - accuracy: 0.9933\n",
      "Epoch 84/100\n",
      "24/24 [==============================] - 0s 631us/step - loss: 0.1338 - accuracy: 0.9947\n",
      "Epoch 85/100\n",
      "24/24 [==============================] - 0s 652us/step - loss: 0.1312 - accuracy: 0.9947\n",
      "Epoch 86/100\n",
      "24/24 [==============================] - 0s 674us/step - loss: 0.1286 - accuracy: 0.9960\n",
      "Epoch 87/100\n",
      "24/24 [==============================] - 0s 674us/step - loss: 0.1261 - accuracy: 0.9960\n",
      "Epoch 88/100\n",
      "24/24 [==============================] - 0s 653us/step - loss: 0.1236 - accuracy: 0.9960\n",
      "Epoch 89/100\n",
      "24/24 [==============================] - 0s 638us/step - loss: 0.1213 - accuracy: 0.9960\n",
      "Epoch 90/100\n",
      "24/24 [==============================] - 0s 622us/step - loss: 0.1189 - accuracy: 0.9960\n",
      "Epoch 91/100\n",
      "24/24 [==============================] - 0s 631us/step - loss: 0.1166 - accuracy: 0.9960\n",
      "Epoch 92/100\n",
      "24/24 [==============================] - 0s 653us/step - loss: 0.1144 - accuracy: 0.9960\n",
      "Epoch 93/100\n",
      "24/24 [==============================] - 0s 674us/step - loss: 0.1122 - accuracy: 0.9960\n",
      "Epoch 94/100\n",
      "24/24 [==============================] - 0s 739us/step - loss: 0.1101 - accuracy: 0.9960\n",
      "Epoch 95/100\n",
      "24/24 [==============================] - 0s 675us/step - loss: 0.1080 - accuracy: 0.9960\n",
      "Epoch 96/100\n",
      "24/24 [==============================] - 0s 652us/step - loss: 0.1060 - accuracy: 0.9960\n",
      "Epoch 97/100\n",
      "24/24 [==============================] - 0s 631us/step - loss: 0.1040 - accuracy: 0.9960\n",
      "Epoch 98/100\n",
      "24/24 [==============================] - 0s 703us/step - loss: 0.1021 - accuracy: 0.9960\n",
      "Epoch 99/100\n",
      "24/24 [==============================] - 0s 675us/step - loss: 0.1003 - accuracy: 0.9960\n",
      "Epoch 100/100\n",
      "24/24 [==============================] - 0s 668us/step - loss: 0.0984 - accuracy: 0.9960\n"
     ]
    }
   ],
   "source": [
    "# Fit the model to the training data.\n",
    "fit_model = nn_model.fit(X_train_scaled, y_train, epochs=100)"
   ]
  },
  {
   "cell_type": "code",
   "execution_count": 13,
   "metadata": {},
   "outputs": [
    {
     "data": {
      "text/plain": [
       "<AxesSubplot:>"
      ]
     },
     "execution_count": 13,
     "metadata": {},
     "output_type": "execute_result"
    },
    {
     "data": {
      "image/png": "[encoded data removed]",
      "text/plain": [
       "<Figure size 432x288 with 1 Axes>"
      ]
     },
     "metadata": {
      "needs_background": "light"
     },
     "output_type": "display_data"
    }
   ],
   "source": [
    "# Create a DataFrame containing training history\n",
    "history_df = pd.DataFrame(fit_model.history, index=range(1, len(fit_model.history[\"loss\"]) + 1))\n",
    "\n",
    "# Plot the loss\n",
    "history_df.plot(y=\"loss\")"
   ]
  },
  {
   "cell_type": "code",
   "execution_count": 14,
   "metadata": {},
   "outputs": [
    {
     "data": {
      "text/plain": [
       "<AxesSubplot:>"
      ]
     },
     "execution_count": 14,
     "metadata": {},
     "output_type": "execute_result"
    },
    {
     "data": {
      "image/png": "[encoded data removed]",
      "text/plain": [
       "<Figure size 432x288 with 1 Axes>"
      ]
     },
     "metadata": {
      "needs_background": "light"
     },
     "output_type": "display_data"
    }
   ],
   "source": [
    "# Plot the accuracy.\n",
    "history_df.plot(y=\"accuracy\")"
   ]
  },
  {
   "cell_type": "code",
   "execution_count": 15,
   "metadata": {},
   "outputs": [
    {
     "name": "stdout",
     "output_type": "stream",
     "text": [
      "8/8 - 1s - loss: 0.0973 - accuracy: 1.0000 - 1s/epoch - 170ms/step\n",
      "Loss: 0.0973481833934784, Accuracy: 1.0\n"
     ]
    }
   ],
   "source": [
    "# Evaluate the model using the test data\n",
    "model_loss, model_accuracy = nn_model.evaluate(X_test_scaled, y_test, verbose=2)\n",
    "\n",
    "print(f\"Loss: {model_loss}, Accuracy: {model_accuracy}\")"
   ]
  },
  {
   "cell_type": "code",
   "execution_count": 16,
   "metadata": {},
   "outputs": [
    {
     "name": "stdout",
     "output_type": "stream",
     "text": [
      "1/1 [==============================] - 1s 1s/step\n"
     ]
    },
    {
     "data": {
      "text/plain": [
       "array([[0],\n",
       "       [1],\n",
       "       [0],\n",
       "       [1],\n",
       "       [0],\n",
       "       [0],\n",
       "       [1],\n",
       "       [1],\n",
       "       [1],\n",
       "       [0]])"
      ]
     },
     "execution_count": 16,
     "metadata": {},
     "output_type": "execute_result"
    }
   ],
   "source": [
    "# Predict the classification of a new set of blob data\n",
    "new_X, new_Y = make_blobs(n_samples=10, centers=2, n_features=2, random_state=78)\n",
    "\n",
    "new_X_scaled = X_scaler.transform(new_X)\n",
    "\n",
    "(nn_model.predict(new_X_scaled) > 0.5).astype(\"int32\")"
   ]
  },
  {
   "cell_type": "markdown",
   "metadata": {},
   "source": [
    "### Nuances of Neural Networks on Nonlinear Numbers."
   ]
  },
  {
   "cell_type": "code",
   "execution_count": 17,
   "metadata": {},
   "outputs": [
    {
     "data": {
      "text/plain": [
       "<AxesSubplot:xlabel='Feature 1', ylabel='Feature 2'>"
      ]
     },
     "execution_count": 17,
     "metadata": {},
     "output_type": "execute_result"
    },
    {
     "data": {
      "image/png": "[encoded data removed]",
      "text/plain": [
       "<Figure size 432x288 with 2 Axes>"
      ]
     },
     "metadata": {
      "needs_background": "light"
     },
     "output_type": "display_data"
    }
   ],
   "source": [
    "from sklearn.datasets import make_moons\n",
    "\n",
    "# Creating dummy nonlinear data\n",
    "X_moons, y_moons = make_moons(n_samples=1000, noise=0.08, random_state=78)\n",
    "\n",
    "# Creating a DataFrame to plot the nonlinear dummy data\n",
    "df_moons = pd.DataFrame(X_moons, columns=[\"Feature 1\", \"Feature 2\"])\n",
    "df_moons[\"Target\"] = y_moons\n",
    "\n",
    "# Plot the nonlinear dummy data\n",
    "df_moons.plot.scatter(x=\"Feature 1\", y=\"Feature 2\", c=\"Target\", colormap=\"winter\")"
   ]
  },
  {
   "cell_type": "code",
   "execution_count": 18,
   "metadata": {},
   "outputs": [],
   "source": [
    "# Create training and testing sets\n",
    "X_moon_train, X_moon_test, y_moon_train, y_moon_test = train_test_split(\n",
    "    X_moons, y_moons, random_state=78\n",
    ")\n",
    "\n",
    "# Create the scaler instance\n",
    "X_moon_scaler = skl.preprocessing.StandardScaler()\n",
    "\n",
    "# Fit the scaler\n",
    "X_moon_scaler.fit(X_moon_train)\n",
    "\n",
    "# Scale the data\n",
    "X_moon_train_scaled = X_moon_scaler.transform(X_moon_train)\n",
    "X_moon_test_scaled = X_moon_scaler.transform(X_moon_test)"
   ]
  },
  {
   "cell_type": "code",
   "execution_count": 19,
   "metadata": {},
   "outputs": [
    {
     "name": "stdout",
     "output_type": "stream",
     "text": [
      "Epoch 1/100\n",
      "24/24 [==============================] - 0s 675us/step - loss: 1.3246 - accuracy: 0.3653\n",
      "Epoch 2/100\n",
      "24/24 [==============================] - 0s 659us/step - loss: 1.1835 - accuracy: 0.3827\n",
      "Epoch 3/100\n",
      "24/24 [==============================] - 0s 631us/step - loss: 1.0840 - accuracy: 0.3920\n",
      "Epoch 4/100\n",
      "24/24 [==============================] - 0s 652us/step - loss: 1.0165 - accuracy: 0.4120\n",
      "Epoch 5/100\n",
      "24/24 [==============================] - 0s 675us/step - loss: 0.9671 - accuracy: 0.4267\n",
      "Epoch 6/100\n",
      "24/24 [==============================] - 0s 694us/step - loss: 0.9274 - accuracy: 0.4400\n",
      "Epoch 7/100\n",
      "24/24 [==============================] - 0s 739us/step - loss: 0.8938 - accuracy: 0.4480\n",
      "Epoch 8/100\n",
      "24/24 [==============================] - 0s 718us/step - loss: 0.8661 - accuracy: 0.4573\n",
      "Epoch 9/100\n",
      "24/24 [==============================] - 0s 652us/step - loss: 0.8412 - accuracy: 0.4693\n",
      "Epoch 10/100\n",
      "24/24 [==============================] - 0s 675us/step - loss: 0.8194 - accuracy: 0.4800\n",
      "Epoch 11/100\n",
      "24/24 [==============================] - 0s 764us/step - loss: 0.7992 - accuracy: 0.4907\n",
      "Epoch 12/100\n",
      "24/24 [==============================] - 0s 652us/step - loss: 0.7809 - accuracy: 0.4947\n",
      "Epoch 13/100\n",
      "24/24 [==============================] - 0s 674us/step - loss: 0.7639 - accuracy: 0.5040\n",
      "Epoch 14/100\n",
      "24/24 [==============================] - 0s 696us/step - loss: 0.7481 - accuracy: 0.5093\n",
      "Epoch 15/100\n",
      "24/24 [==============================] - 0s 631us/step - loss: 0.7332 - accuracy: 0.5187\n",
      "Epoch 16/100\n",
      "24/24 [==============================] - 0s 676us/step - loss: 0.7193 - accuracy: 0.5293\n",
      "Epoch 17/100\n",
      "24/24 [==============================] - 0s 682us/step - loss: 0.7061 - accuracy: 0.5413\n",
      "Epoch 18/100\n",
      "24/24 [==============================] - 0s 696us/step - loss: 0.6936 - accuracy: 0.5520\n",
      "Epoch 19/100\n",
      "24/24 [==============================] - 0s 675us/step - loss: 0.6819 - accuracy: 0.5600\n",
      "Epoch 20/100\n",
      "24/24 [==============================] - 0s 652us/step - loss: 0.6704 - accuracy: 0.5733\n",
      "Epoch 21/100\n",
      "24/24 [==============================] - 0s 676us/step - loss: 0.6597 - accuracy: 0.5760\n",
      "Epoch 22/100\n",
      "24/24 [==============================] - 0s 718us/step - loss: 0.6497 - accuracy: 0.5813\n",
      "Epoch 23/100\n",
      "24/24 [==============================] - 0s 674us/step - loss: 0.6399 - accuracy: 0.5867\n",
      "Epoch 24/100\n",
      "24/24 [==============================] - 0s 652us/step - loss: 0.6306 - accuracy: 0.5893\n",
      "Epoch 25/100\n",
      "24/24 [==============================] - 0s 653us/step - loss: 0.6218 - accuracy: 0.5947\n",
      "Epoch 26/100\n",
      "24/24 [==============================] - 0s 631us/step - loss: 0.6133 - accuracy: 0.6080\n",
      "Epoch 27/100\n",
      "24/24 [==============================] - 0s 653us/step - loss: 0.6051 - accuracy: 0.6107\n",
      "Epoch 28/100\n",
      "24/24 [==============================] - 0s 653us/step - loss: 0.5971 - accuracy: 0.6187\n",
      "Epoch 29/100\n",
      "24/24 [==============================] - 0s 653us/step - loss: 0.5894 - accuracy: 0.6280\n",
      "Epoch 30/100\n",
      "24/24 [==============================] - 0s 674us/step - loss: 0.5821 - accuracy: 0.6307\n",
      "Epoch 31/100\n",
      "24/24 [==============================] - 0s 652us/step - loss: 0.5751 - accuracy: 0.6373\n",
      "Epoch 32/100\n",
      "24/24 [==============================] - 0s 632us/step - loss: 0.5682 - accuracy: 0.6413\n",
      "Epoch 33/100\n",
      "24/24 [==============================] - 0s 653us/step - loss: 0.5617 - accuracy: 0.6467\n",
      "Epoch 34/100\n",
      "24/24 [==============================] - 0s 807us/step - loss: 0.5553 - accuracy: 0.6547\n",
      "Epoch 35/100\n",
      "24/24 [==============================] - 0s 718us/step - loss: 0.5490 - accuracy: 0.6560\n",
      "Epoch 36/100\n",
      "24/24 [==============================] - 0s 696us/step - loss: 0.5430 - accuracy: 0.6600\n",
      "Epoch 37/100\n",
      "24/24 [==============================] - 0s 631us/step - loss: 0.5372 - accuracy: 0.6693\n",
      "Epoch 38/100\n",
      "24/24 [==============================] - 0s 674us/step - loss: 0.5316 - accuracy: 0.6720\n",
      "Epoch 39/100\n",
      "24/24 [==============================] - 0s 631us/step - loss: 0.5261 - accuracy: 0.6787\n",
      "Epoch 40/100\n",
      "24/24 [==============================] - 0s 702us/step - loss: 0.5208 - accuracy: 0.6827\n",
      "Epoch 41/100\n",
      "24/24 [==============================] - 0s 674us/step - loss: 0.5156 - accuracy: 0.6867\n",
      "Epoch 42/100\n",
      "24/24 [==============================] - 0s 652us/step - loss: 0.5104 - accuracy: 0.6920\n",
      "Epoch 43/100\n",
      "24/24 [==============================] - 0s 676us/step - loss: 0.5054 - accuracy: 0.6933\n",
      "Epoch 44/100\n",
      "24/24 [==============================] - 0s 652us/step - loss: 0.5002 - accuracy: 0.6987\n",
      "Epoch 45/100\n",
      "24/24 [==============================] - 0s 650us/step - loss: 0.4954 - accuracy: 0.7013\n",
      "Epoch 46/100\n",
      "24/24 [==============================] - 0s 636us/step - loss: 0.4907 - accuracy: 0.7053\n",
      "Epoch 47/100\n",
      "24/24 [==============================] - 0s 631us/step - loss: 0.4860 - accuracy: 0.7093\n",
      "Epoch 48/100\n",
      "24/24 [==============================] - 0s 609us/step - loss: 0.4813 - accuracy: 0.7133\n",
      "Epoch 49/100\n",
      "24/24 [==============================] - 0s 609us/step - loss: 0.4768 - accuracy: 0.7160\n",
      "Epoch 50/100\n",
      "24/24 [==============================] - 0s 631us/step - loss: 0.4722 - accuracy: 0.7213\n",
      "Epoch 51/100\n",
      "24/24 [==============================] - 0s 674us/step - loss: 0.4678 - accuracy: 0.7240\n",
      "Epoch 52/100\n",
      "24/24 [==============================] - 0s 625us/step - loss: 0.4634 - accuracy: 0.7320\n",
      "Epoch 53/100\n",
      "24/24 [==============================] - 0s 696us/step - loss: 0.4591 - accuracy: 0.7320\n",
      "Epoch 54/100\n",
      "24/24 [==============================] - 0s 677us/step - loss: 0.4547 - accuracy: 0.7360\n",
      "Epoch 55/100\n",
      "24/24 [==============================] - 0s 609us/step - loss: 0.4504 - accuracy: 0.7413\n",
      "Epoch 56/100\n",
      "24/24 [==============================] - 0s 631us/step - loss: 0.4462 - accuracy: 0.7507\n",
      "Epoch 57/100\n",
      "24/24 [==============================] - 0s 609us/step - loss: 0.4420 - accuracy: 0.7520\n",
      "Epoch 58/100\n",
      "24/24 [==============================] - 0s 631us/step - loss: 0.4378 - accuracy: 0.7547\n",
      "Epoch 59/100\n",
      "24/24 [==============================] - 0s 609us/step - loss: 0.4338 - accuracy: 0.7587\n",
      "Epoch 60/100\n",
      "24/24 [==============================] - 0s 609us/step - loss: 0.4296 - accuracy: 0.7640\n",
      "Epoch 61/100\n",
      "24/24 [==============================] - 0s 609us/step - loss: 0.4255 - accuracy: 0.7653\n",
      "Epoch 62/100\n",
      "24/24 [==============================] - 0s 588us/step - loss: 0.4215 - accuracy: 0.7680\n",
      "Epoch 63/100\n",
      "24/24 [==============================] - 0s 665us/step - loss: 0.4175 - accuracy: 0.7707\n",
      "Epoch 64/100\n",
      "24/24 [==============================] - 0s 627us/step - loss: 0.4134 - accuracy: 0.7773\n",
      "Epoch 65/100\n",
      "24/24 [==============================] - 0s 609us/step - loss: 0.4095 - accuracy: 0.7813\n",
      "Epoch 66/100\n",
      "24/24 [==============================] - 0s 587us/step - loss: 0.4055 - accuracy: 0.7827\n",
      "Epoch 67/100\n",
      "24/24 [==============================] - 0s 609us/step - loss: 0.4017 - accuracy: 0.7880\n",
      "Epoch 68/100\n",
      "24/24 [==============================] - 0s 696us/step - loss: 0.3979 - accuracy: 0.7920\n",
      "Epoch 69/100\n",
      "24/24 [==============================] - 0s 652us/step - loss: 0.3939 - accuracy: 0.8027\n",
      "Epoch 70/100\n",
      "24/24 [==============================] - 0s 632us/step - loss: 0.3901 - accuracy: 0.8053\n",
      "Epoch 71/100\n",
      "24/24 [==============================] - 0s 652us/step - loss: 0.3863 - accuracy: 0.8053\n",
      "Epoch 72/100\n",
      "24/24 [==============================] - 0s 652us/step - loss: 0.3826 - accuracy: 0.8067\n",
      "Epoch 73/100\n",
      "24/24 [==============================] - 0s 675us/step - loss: 0.3788 - accuracy: 0.8093\n",
      "Epoch 74/100\n",
      "24/24 [==============================] - 0s 630us/step - loss: 0.3752 - accuracy: 0.8133\n",
      "Epoch 75/100\n",
      "24/24 [==============================] - 0s 674us/step - loss: 0.3716 - accuracy: 0.8133\n",
      "Epoch 76/100\n",
      "24/24 [==============================] - 0s 656us/step - loss: 0.3681 - accuracy: 0.8173\n",
      "Epoch 77/100\n",
      "24/24 [==============================] - 0s 675us/step - loss: 0.3646 - accuracy: 0.8213\n",
      "Epoch 78/100\n",
      "24/24 [==============================] - 0s 609us/step - loss: 0.3613 - accuracy: 0.8227\n",
      "Epoch 79/100\n",
      "24/24 [==============================] - 0s 632us/step - loss: 0.3581 - accuracy: 0.8227\n",
      "Epoch 80/100\n",
      "24/24 [==============================] - 0s 631us/step - loss: 0.3549 - accuracy: 0.8227\n",
      "Epoch 81/100\n",
      "24/24 [==============================] - 0s 656us/step - loss: 0.3517 - accuracy: 0.8240\n",
      "Epoch 82/100\n",
      "24/24 [==============================] - 0s 652us/step - loss: 0.3488 - accuracy: 0.8253\n",
      "Epoch 83/100\n",
      "24/24 [==============================] - 0s 611us/step - loss: 0.3458 - accuracy: 0.8267\n",
      "Epoch 84/100\n",
      "24/24 [==============================] - 0s 609us/step - loss: 0.3430 - accuracy: 0.8267\n",
      "Epoch 85/100\n",
      "24/24 [==============================] - 0s 587us/step - loss: 0.3402 - accuracy: 0.8280\n",
      "Epoch 86/100\n",
      "24/24 [==============================] - 0s 623us/step - loss: 0.3377 - accuracy: 0.8307\n",
      "Epoch 87/100\n",
      "24/24 [==============================] - 0s 609us/step - loss: 0.3350 - accuracy: 0.8307\n",
      "Epoch 88/100\n",
      "24/24 [==============================] - 0s 652us/step - loss: 0.3325 - accuracy: 0.8373\n",
      "Epoch 89/100\n",
      "24/24 [==============================] - 0s 631us/step - loss: 0.3301 - accuracy: 0.8373\n",
      "Epoch 90/100\n",
      "24/24 [==============================] - 0s 739us/step - loss: 0.3278 - accuracy: 0.8387\n",
      "Epoch 91/100\n",
      "24/24 [==============================] - 0s 631us/step - loss: 0.3255 - accuracy: 0.8413\n",
      "Epoch 92/100\n",
      "24/24 [==============================] - 0s 660us/step - loss: 0.3232 - accuracy: 0.8427\n",
      "Epoch 93/100\n",
      "24/24 [==============================] - 0s 675us/step - loss: 0.3212 - accuracy: 0.8467\n",
      "Epoch 94/100\n",
      "24/24 [==============================] - 0s 653us/step - loss: 0.3191 - accuracy: 0.8493\n",
      "Epoch 95/100\n",
      "24/24 [==============================] - 0s 718us/step - loss: 0.3171 - accuracy: 0.8493\n",
      "Epoch 96/100\n",
      "24/24 [==============================] - 0s 631us/step - loss: 0.3152 - accuracy: 0.8507\n",
      "Epoch 97/100\n",
      "24/24 [==============================] - 0s 609us/step - loss: 0.3133 - accuracy: 0.8547\n",
      "Epoch 98/100\n",
      "24/24 [==============================] - 0s 608us/step - loss: 0.3115 - accuracy: 0.8560\n",
      "Epoch 99/100\n",
      "24/24 [==============================] - 0s 653us/step - loss: 0.3096 - accuracy: 0.8573\n",
      "Epoch 100/100\n",
      "24/24 [==============================] - 0s 588us/step - loss: 0.3079 - accuracy: 0.8587\n"
     ]
    }
   ],
   "source": [
    "# Training the model with the nonlinear data\n",
    "model_moon = nn_model.fit(X_moon_train_scaled, y_moon_train, epochs=100, shuffle=True)"
   ]
  },
  {
   "cell_type": "code",
   "execution_count": 20,
   "metadata": {},
   "outputs": [
    {
     "data": {
      "text/plain": [
       "<AxesSubplot:>"
      ]
     },
     "execution_count": 20,
     "metadata": {},
     "output_type": "execute_result"
    },
    {
     "data": {
      "image/png": "[encoded data removed]",
      "text/plain": [
       "<Figure size 432x288 with 1 Axes>"
      ]
     },
     "metadata": {
      "needs_background": "light"
     },
     "output_type": "display_data"
    }
   ],
   "source": [
    "# Create a DataFrame containing training history\n",
    "history_df = pd.DataFrame(model_moon.history, index=range(1,len(model_moon.history[\"loss\"])+1))\n",
    "\n",
    "# Plot the loss\n",
    "history_df.plot(y=\"loss\")"
   ]
  },
  {
   "cell_type": "code",
   "execution_count": 21,
   "metadata": {},
   "outputs": [
    {
     "data": {
      "text/plain": [
       "<AxesSubplot:>"
      ]
     },
     "execution_count": 21,
     "metadata": {},
     "output_type": "execute_result"
    },
    {
     "data": {
      "image/png": "[encoded data removed]",
      "text/plain": [
       "<Figure size 432x288 with 1 Axes>"
      ]
     },
     "metadata": {
      "needs_background": "light"
     },
     "output_type": "display_data"
    }
   ],
   "source": [
    "# Plot the accuracy\n",
    "history_df.plot(y=\"accuracy\")"
   ]
  },
  {
   "cell_type": "markdown",
   "metadata": {},
   "source": [
    "### Create the Connective Tissue, the Multiple Neuron Neural Network."
   ]
  },
  {
   "cell_type": "code",
   "execution_count": 22,
   "metadata": {},
   "outputs": [],
   "source": [
    "# Generate our new Sequential model\n",
    "new_model = tf.keras.Sequential()"
   ]
  },
  {
   "cell_type": "code",
   "execution_count": 23,
   "metadata": {},
   "outputs": [],
   "source": [
    "# Add the input and hidden layer\n",
    "number_inputs = 2\n",
    "number_hidden_nodes = 6\n",
    "\n",
    "new_model.add(tf.keras.layers.Dense(units=number_hidden_nodes, activation=\"relu\", input_dim=number_inputs))\n",
    "\n",
    "# Add the output layer that uses a probability activation function\n",
    "new_model.add(tf.keras.layers.Dense(units=1, activation=\"sigmoid\"))"
   ]
  },
  {
   "cell_type": "code",
   "execution_count": 24,
   "metadata": {},
   "outputs": [
    {
     "name": "stdout",
     "output_type": "stream",
     "text": [
      "Epoch 1/100\n",
      "24/24 [==============================] - 0s 739us/step - loss: 0.9076 - accuracy: 0.2347\n",
      "Epoch 2/100\n",
      "24/24 [==============================] - 0s 675us/step - loss: 0.8569 - accuracy: 0.2480\n",
      "Epoch 3/100\n",
      "24/24 [==============================] - 0s 674us/step - loss: 0.8130 - accuracy: 0.2760\n",
      "Epoch 4/100\n",
      "24/24 [==============================] - 0s 709us/step - loss: 0.7757 - accuracy: 0.2987\n",
      "Epoch 5/100\n",
      "24/24 [==============================] - 0s 631us/step - loss: 0.7424 - accuracy: 0.3373\n",
      "Epoch 6/100\n",
      "24/24 [==============================] - 0s 696us/step - loss: 0.7142 - accuracy: 0.3667\n",
      "Epoch 7/100\n",
      "24/24 [==============================] - 0s 674us/step - loss: 0.6889 - accuracy: 0.4067\n",
      "Epoch 8/100\n",
      "24/24 [==============================] - 0s 739us/step - loss: 0.6668 - accuracy: 0.4427\n",
      "Epoch 9/100\n",
      "24/24 [==============================] - 0s 739us/step - loss: 0.6467 - accuracy: 0.4627\n",
      "Epoch 10/100\n",
      "24/24 [==============================] - 0s 762us/step - loss: 0.6282 - accuracy: 0.4893\n",
      "Epoch 11/100\n",
      "24/24 [==============================] - 0s 783us/step - loss: 0.6116 - accuracy: 0.5120\n",
      "Epoch 12/100\n",
      "24/24 [==============================] - 0s 719us/step - loss: 0.5959 - accuracy: 0.5373\n",
      "Epoch 13/100\n",
      "24/24 [==============================] - 0s 719us/step - loss: 0.5811 - accuracy: 0.6227\n",
      "Epoch 14/100\n",
      "24/24 [==============================] - 0s 697us/step - loss: 0.5670 - accuracy: 0.6760\n",
      "Epoch 15/100\n",
      "24/24 [==============================] - 0s 696us/step - loss: 0.5536 - accuracy: 0.7080\n",
      "Epoch 16/100\n",
      "24/24 [==============================] - 0s 719us/step - loss: 0.5407 - accuracy: 0.7373\n",
      "Epoch 17/100\n",
      "24/24 [==============================] - 0s 723us/step - loss: 0.5280 - accuracy: 0.7573\n",
      "Epoch 18/100\n",
      "24/24 [==============================] - 0s 783us/step - loss: 0.5155 - accuracy: 0.7653\n",
      "Epoch 19/100\n",
      "24/24 [==============================] - 0s 731us/step - loss: 0.5034 - accuracy: 0.7733\n",
      "Epoch 20/100\n",
      "24/24 [==============================] - 0s 696us/step - loss: 0.4911 - accuracy: 0.7813\n",
      "Epoch 21/100\n",
      "24/24 [==============================] - 0s 693us/step - loss: 0.4787 - accuracy: 0.7813\n",
      "Epoch 22/100\n",
      "24/24 [==============================] - 0s 765us/step - loss: 0.4663 - accuracy: 0.7853\n",
      "Epoch 23/100\n",
      "24/24 [==============================] - 0s 739us/step - loss: 0.4542 - accuracy: 0.7880\n",
      "Epoch 24/100\n",
      "24/24 [==============================] - 0s 741us/step - loss: 0.4418 - accuracy: 0.7893\n",
      "Epoch 25/100\n",
      "24/24 [==============================] - 0s 739us/step - loss: 0.4301 - accuracy: 0.7907\n",
      "Epoch 26/100\n",
      "24/24 [==============================] - 0s 696us/step - loss: 0.4183 - accuracy: 0.7973\n",
      "Epoch 27/100\n",
      "24/24 [==============================] - 0s 762us/step - loss: 0.4076 - accuracy: 0.7987\n",
      "Epoch 28/100\n",
      "24/24 [==============================] - 0s 706us/step - loss: 0.3974 - accuracy: 0.8000\n",
      "Epoch 29/100\n",
      "24/24 [==============================] - 0s 767us/step - loss: 0.3875 - accuracy: 0.8053\n",
      "Epoch 30/100\n",
      "24/24 [==============================] - 0s 718us/step - loss: 0.3784 - accuracy: 0.8133\n",
      "Epoch 31/100\n",
      "24/24 [==============================] - 0s 739us/step - loss: 0.3697 - accuracy: 0.8187\n",
      "Epoch 32/100\n",
      "24/24 [==============================] - 0s 718us/step - loss: 0.3612 - accuracy: 0.8213\n",
      "Epoch 33/100\n",
      "24/24 [==============================] - 0s 739us/step - loss: 0.3535 - accuracy: 0.8280\n",
      "Epoch 34/100\n",
      "24/24 [==============================] - 0s 696us/step - loss: 0.3462 - accuracy: 0.8307\n",
      "Epoch 35/100\n",
      "24/24 [==============================] - 0s 718us/step - loss: 0.3392 - accuracy: 0.8333\n",
      "Epoch 36/100\n",
      "24/24 [==============================] - 0s 739us/step - loss: 0.3324 - accuracy: 0.8413\n",
      "Epoch 37/100\n",
      "24/24 [==============================] - 0s 718us/step - loss: 0.3259 - accuracy: 0.8453\n",
      "Epoch 38/100\n",
      "24/24 [==============================] - 0s 718us/step - loss: 0.3199 - accuracy: 0.8493\n",
      "Epoch 39/100\n",
      "24/24 [==============================] - 0s 761us/step - loss: 0.3140 - accuracy: 0.8507\n",
      "Epoch 40/100\n",
      "24/24 [==============================] - 0s 744us/step - loss: 0.3083 - accuracy: 0.8507\n",
      "Epoch 41/100\n",
      "24/24 [==============================] - 0s 718us/step - loss: 0.3029 - accuracy: 0.8533\n",
      "Epoch 42/100\n",
      "24/24 [==============================] - 0s 718us/step - loss: 0.2976 - accuracy: 0.8573\n",
      "Epoch 43/100\n",
      "24/24 [==============================] - 0s 696us/step - loss: 0.2925 - accuracy: 0.8573\n",
      "Epoch 44/100\n",
      "24/24 [==============================] - 0s 718us/step - loss: 0.2877 - accuracy: 0.8613\n",
      "Epoch 45/100\n",
      "24/24 [==============================] - 0s 762us/step - loss: 0.2830 - accuracy: 0.8667\n",
      "Epoch 46/100\n",
      "24/24 [==============================] - 0s 718us/step - loss: 0.2785 - accuracy: 0.8707\n",
      "Epoch 47/100\n",
      "24/24 [==============================] - 0s 718us/step - loss: 0.2743 - accuracy: 0.8760\n",
      "Epoch 48/100\n",
      "24/24 [==============================] - 0s 696us/step - loss: 0.2704 - accuracy: 0.8773\n",
      "Epoch 49/100\n",
      "24/24 [==============================] - 0s 718us/step - loss: 0.2667 - accuracy: 0.8827\n",
      "Epoch 50/100\n",
      "24/24 [==============================] - 0s 718us/step - loss: 0.2632 - accuracy: 0.8840\n",
      "Epoch 51/100\n",
      "24/24 [==============================] - 0s 699us/step - loss: 0.2600 - accuracy: 0.8853\n",
      "Epoch 52/100\n",
      "24/24 [==============================] - 0s 674us/step - loss: 0.2570 - accuracy: 0.8880\n",
      "Epoch 53/100\n",
      "24/24 [==============================] - 0s 826us/step - loss: 0.2543 - accuracy: 0.8893\n",
      "Epoch 54/100\n",
      "24/24 [==============================] - 0s 762us/step - loss: 0.2518 - accuracy: 0.8893\n",
      "Epoch 55/100\n",
      "24/24 [==============================] - 0s 760us/step - loss: 0.2493 - accuracy: 0.8893\n",
      "Epoch 56/100\n",
      "24/24 [==============================] - 0s 739us/step - loss: 0.2470 - accuracy: 0.8920\n",
      "Epoch 57/100\n",
      "24/24 [==============================] - 0s 708us/step - loss: 0.2449 - accuracy: 0.8933\n",
      "Epoch 58/100\n",
      "24/24 [==============================] - 0s 719us/step - loss: 0.2427 - accuracy: 0.8947\n",
      "Epoch 59/100\n",
      "24/24 [==============================] - 0s 739us/step - loss: 0.2408 - accuracy: 0.8973\n",
      "Epoch 60/100\n",
      "24/24 [==============================] - 0s 653us/step - loss: 0.2390 - accuracy: 0.8987\n",
      "Epoch 61/100\n",
      "24/24 [==============================] - 0s 740us/step - loss: 0.2373 - accuracy: 0.9000\n",
      "Epoch 62/100\n",
      "24/24 [==============================] - 0s 696us/step - loss: 0.2356 - accuracy: 0.9000\n",
      "Epoch 63/100\n",
      "24/24 [==============================] - 0s 718us/step - loss: 0.2341 - accuracy: 0.9000\n",
      "Epoch 64/100\n",
      "24/24 [==============================] - 0s 739us/step - loss: 0.2326 - accuracy: 0.9000\n",
      "Epoch 65/100\n",
      "24/24 [==============================] - 0s 740us/step - loss: 0.2312 - accuracy: 0.9000\n",
      "Epoch 66/100\n",
      "24/24 [==============================] - 0s 719us/step - loss: 0.2299 - accuracy: 0.9013\n",
      "Epoch 67/100\n",
      "24/24 [==============================] - 0s 696us/step - loss: 0.2288 - accuracy: 0.9013\n",
      "Epoch 68/100\n",
      "24/24 [==============================] - 0s 719us/step - loss: 0.2275 - accuracy: 0.9013\n",
      "Epoch 69/100\n",
      "24/24 [==============================] - 0s 739us/step - loss: 0.2263 - accuracy: 0.9013\n",
      "Epoch 70/100\n",
      "24/24 [==============================] - 0s 739us/step - loss: 0.2251 - accuracy: 0.9040\n",
      "Epoch 71/100\n",
      "24/24 [==============================] - 0s 691us/step - loss: 0.2240 - accuracy: 0.9040\n",
      "Epoch 72/100\n",
      "24/24 [==============================] - 0s 703us/step - loss: 0.2229 - accuracy: 0.9040\n",
      "Epoch 73/100\n",
      "24/24 [==============================] - 0s 740us/step - loss: 0.2218 - accuracy: 0.9053\n",
      "Epoch 74/100\n",
      "24/24 [==============================] - 0s 736us/step - loss: 0.2207 - accuracy: 0.9053\n",
      "Epoch 75/100\n",
      "24/24 [==============================] - 0s 725us/step - loss: 0.2195 - accuracy: 0.9053\n",
      "Epoch 76/100\n",
      "24/24 [==============================] - 0s 675us/step - loss: 0.2186 - accuracy: 0.9053\n",
      "Epoch 77/100\n",
      "24/24 [==============================] - 0s 719us/step - loss: 0.2174 - accuracy: 0.9053\n",
      "Epoch 78/100\n",
      "24/24 [==============================] - 0s 719us/step - loss: 0.2163 - accuracy: 0.9067\n",
      "Epoch 79/100\n",
      "24/24 [==============================] - 0s 739us/step - loss: 0.2152 - accuracy: 0.9067\n",
      "Epoch 80/100\n",
      "24/24 [==============================] - 0s 894us/step - loss: 0.2142 - accuracy: 0.9080\n",
      "Epoch 81/100\n",
      "24/24 [==============================] - 0s 739us/step - loss: 0.2130 - accuracy: 0.9093\n",
      "Epoch 82/100\n",
      "24/24 [==============================] - 0s 721us/step - loss: 0.2118 - accuracy: 0.9093\n",
      "Epoch 83/100\n",
      "24/24 [==============================] - 0s 718us/step - loss: 0.2108 - accuracy: 0.9107\n",
      "Epoch 84/100\n",
      "24/24 [==============================] - 0s 739us/step - loss: 0.2097 - accuracy: 0.9107\n",
      "Epoch 85/100\n",
      "24/24 [==============================] - 0s 710us/step - loss: 0.2085 - accuracy: 0.9107\n",
      "Epoch 86/100\n",
      "24/24 [==============================] - 0s 696us/step - loss: 0.2074 - accuracy: 0.9107\n",
      "Epoch 87/100\n",
      "24/24 [==============================] - 0s 697us/step - loss: 0.2061 - accuracy: 0.9107\n",
      "Epoch 88/100\n",
      "24/24 [==============================] - 0s 726us/step - loss: 0.2050 - accuracy: 0.9107\n",
      "Epoch 89/100\n",
      "24/24 [==============================] - 0s 696us/step - loss: 0.2038 - accuracy: 0.9107\n",
      "Epoch 90/100\n",
      "24/24 [==============================] - 0s 718us/step - loss: 0.2026 - accuracy: 0.9107\n",
      "Epoch 91/100\n",
      "24/24 [==============================] - 0s 696us/step - loss: 0.2013 - accuracy: 0.9107\n",
      "Epoch 92/100\n",
      "24/24 [==============================] - 0s 674us/step - loss: 0.2001 - accuracy: 0.9107\n",
      "Epoch 93/100\n",
      "24/24 [==============================] - 0s 696us/step - loss: 0.1988 - accuracy: 0.9120\n",
      "Epoch 94/100\n",
      "24/24 [==============================] - 0s 739us/step - loss: 0.1974 - accuracy: 0.9133\n",
      "Epoch 95/100\n",
      "24/24 [==============================] - 0s 674us/step - loss: 0.1962 - accuracy: 0.9133\n",
      "Epoch 96/100\n",
      "24/24 [==============================] - 0s 652us/step - loss: 0.1949 - accuracy: 0.9160\n",
      "Epoch 97/100\n",
      "24/24 [==============================] - 0s 681us/step - loss: 0.1936 - accuracy: 0.9187\n",
      "Epoch 98/100\n",
      "24/24 [==============================] - 0s 702us/step - loss: 0.1921 - accuracy: 0.9187\n",
      "Epoch 99/100\n",
      "24/24 [==============================] - 0s 761us/step - loss: 0.1907 - accuracy: 0.9213\n",
      "Epoch 100/100\n",
      "24/24 [==============================] - 0s 674us/step - loss: 0.1894 - accuracy: 0.9213\n"
     ]
    }
   ],
   "source": [
    "# Compile the Sequential model together and customize metrics\n",
    "new_model.compile(loss=\"binary_crossentropy\", optimizer=\"adam\", metrics=[\"accuracy\"])\n",
    "\n",
    "# Fit the model to the training data\n",
    "new_fit_model = new_model.fit(X_moon_train_scaled, y_moon_train, epochs=100, shuffle=True)"
   ]
  }
 ],
 "metadata": {
  "kernelspec": {
   "display_name": "Python 3.7.13 ('mlenv')",
   "language": "python",
   "name": "python3"
  },
  "language_info": {
   "codemirror_mode": {
    "name": "ipython",
    "version": 3
   },
   "file_extension": ".py",
   "mimetype": "text/x-python",
   "name": "python",
   "nbconvert_exporter": "python",
   "pygments_lexer": "ipython3",
   "version": "3.7.13"
  },
  "orig_nbformat": 4,
  "vscode": {
   "interpreter": {
    "hash": "9b4ddd07adbd34a20052703d0f7428dc67b25582199a13c67e3c24391f108a0b"
   }
  }
 },
 "nbformat": 4,
 "nbformat_minor": 2
}
